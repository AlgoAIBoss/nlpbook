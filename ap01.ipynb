{
 "cells": [
  {
   "cell_type": "raw",
   "id": "peaceful-accident",
   "metadata": {},
   "source": [
    "[appendix]"
   ]
  },
  {
   "cell_type": "markdown",
   "id": "enormous-intellectual",
   "metadata": {},
   "source": [
    "# Scaling"
   ]
  },
  {
   "cell_type": "markdown",
   "id": "differential-highlight",
   "metadata": {},
   "source": [
    "## Multi-GPU Training"
   ]
  },
  {
   "cell_type": "code",
   "execution_count": null,
   "id": "global-nirvana",
   "metadata": {},
   "outputs": [],
   "source": [
    "from torch import nn"
   ]
  },
  {
   "cell_type": "code",
   "execution_count": null,
   "id": "favorite-variety",
   "metadata": {},
   "outputs": [],
   "source": [
    "model = nn.Transformer()\n",
    "model = nn.DataParallel(model)"
   ]
  },
  {
   "cell_type": "markdown",
   "id": "peaceful-puzzle",
   "metadata": {},
   "source": [
    "## Distributed Training"
   ]
  },
  {
   "cell_type": "markdown",
   "id": "necessary-technology",
   "metadata": {},
   "source": [
    "## What Makes Deep Training fast?"
   ]
  }
 ],
 "metadata": {
  "kernelspec": {
   "display_name": "Python 3",
   "language": "python",
   "name": "python3"
  }
 },
 "nbformat": 4,
 "nbformat_minor": 5
}
